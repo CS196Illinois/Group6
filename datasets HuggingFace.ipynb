{
 "cells": [
  {
   "cell_type": "code",
   "execution_count": 1,
   "metadata": {},
   "outputs": [],
   "source": [
    "from datasets import load_dataset"
   ]
  },
  {
   "cell_type": "code",
   "execution_count": 2,
   "metadata": {},
   "outputs": [
    {
     "name": "stdout",
     "output_type": "stream",
     "text": [
      "Collecting package metadata (current_repodata.json): done\n",
      "Solving environment: failed with initial frozen solve. Retrying with flexible solve.\n",
      "Collecting package metadata (repodata.json): done\n",
      "Solving environment: failed with initial frozen solve. Retrying with flexible solve.\n",
      "\n",
      "PackagesNotFoundError: The following packages are not available from current channels:\n",
      "\n",
      "  - datasets\n",
      "\n",
      "Current channels:\n",
      "\n",
      "  - https://repo.anaconda.com/pkgs/main/osx-64\n",
      "  - https://repo.anaconda.com/pkgs/main/noarch\n",
      "  - https://repo.anaconda.com/pkgs/r/osx-64\n",
      "  - https://repo.anaconda.com/pkgs/r/noarch\n",
      "\n",
      "To search for alternate channels that may provide the conda package you're\n",
      "looking for, navigate to\n",
      "\n",
      "    https://anaconda.org\n",
      "\n",
      "and use the search bar at the top of the page.\n",
      "\n",
      "\n",
      "\n",
      "Note: you may need to restart the kernel to use updated packages.\n"
     ]
    }
   ],
   "source": [
    "conda install datasets"
   ]
  },
  {
   "cell_type": "code",
   "execution_count": 3,
   "metadata": {},
   "outputs": [
    {
     "name": "stdout",
     "output_type": "stream",
     "text": [
      "Collecting datasets\n",
      "  Downloading datasets-1.1.0-py3-none-any.whl (147 kB)\n",
      "\u001b[K     |████████████████████████████████| 147 kB 1.5 MB/s eta 0:00:01\n",
      "\u001b[?25hCollecting xxhash\n",
      "  Downloading xxhash-2.0.0-cp38-cp38-macosx_10_9_x86_64.whl (31 kB)\n",
      "Collecting multiprocess\n",
      "  Downloading multiprocess-0.70.10.zip (2.4 MB)\n",
      "\u001b[K     |████████████████████████████████| 2.4 MB 6.9 MB/s eta 0:00:01\n",
      "\u001b[?25hCollecting pandas\n",
      "  Downloading pandas-1.1.2-cp38-cp38-macosx_10_9_x86_64.whl (10.6 MB)\n",
      "\u001b[K     |████████████████████████████████| 10.6 MB 7.4 MB/s eta 0:00:01\n",
      "\u001b[?25hCollecting requests>=2.19.0\n",
      "  Using cached requests-2.24.0-py2.py3-none-any.whl (61 kB)\n",
      "Collecting numpy>=1.17\n",
      "  Using cached numpy-1.19.2-cp38-cp38-macosx_10_9_x86_64.whl (15.3 MB)\n",
      "Collecting pyarrow>=0.17.1\n",
      "  Downloading pyarrow-1.0.1-cp38-cp38-macosx_10_9_x86_64.whl (11.0 MB)\n",
      "\u001b[K     |████████████████████████████████| 11.0 MB 5.0 MB/s eta 0:00:01\n",
      "\u001b[?25hCollecting filelock\n",
      "  Using cached filelock-3.0.12-py3-none-any.whl (7.6 kB)\n",
      "Collecting dill\n",
      "  Using cached dill-0.3.2.zip (177 kB)\n",
      "Collecting tqdm>=4.27\n",
      "  Using cached tqdm-4.50.0-py2.py3-none-any.whl (70 kB)\n",
      "Requirement already satisfied: python-dateutil>=2.7.3 in /Users/jonah/miniconda3/envs/lctrs/lib/python3.8/site-packages (from pandas->datasets) (2.8.1)\n",
      "Collecting pytz>=2017.2\n",
      "  Using cached pytz-2020.1-py2.py3-none-any.whl (510 kB)\n",
      "Collecting chardet<4,>=3.0.2\n",
      "  Using cached chardet-3.0.4-py2.py3-none-any.whl (133 kB)\n",
      "Collecting idna<3,>=2.5\n",
      "  Using cached idna-2.10-py2.py3-none-any.whl (58 kB)\n",
      "Collecting urllib3!=1.25.0,!=1.25.1,<1.26,>=1.21.1\n",
      "  Using cached urllib3-1.25.10-py2.py3-none-any.whl (127 kB)\n",
      "Requirement already satisfied: certifi>=2017.4.17 in /Users/jonah/miniconda3/envs/lctrs/lib/python3.8/site-packages (from requests>=2.19.0->datasets) (2020.6.20)\n",
      "Requirement already satisfied: six>=1.5 in /Users/jonah/miniconda3/envs/lctrs/lib/python3.8/site-packages (from python-dateutil>=2.7.3->pandas->datasets) (1.15.0)\n",
      "Building wheels for collected packages: multiprocess, dill\n",
      "  Building wheel for multiprocess (setup.py) ... \u001b[?25ldone\n",
      "\u001b[?25h  Created wheel for multiprocess: filename=multiprocess-0.70.10-py3-none-any.whl size=125838 sha256=8da67b819fc179866e743e2b7a4a3a8803f56b02d0cbd34d39fdbb474fb80893\n",
      "  Stored in directory: /Users/jonah/Library/Caches/pip/wheels/f4/c7/82/0bcdc3506e6a8365963db24f477b81693438d4b9165c0757b7\n",
      "  Building wheel for dill (setup.py) ... \u001b[?25ldone\n",
      "\u001b[?25h  Created wheel for dill: filename=dill-0.3.2-py3-none-any.whl size=78912 sha256=a791b9907f0a2fad41e4af32fe338ac33c3e4a3dca0c0a366933154e96ea3998\n",
      "  Stored in directory: /Users/jonah/Library/Caches/pip/wheels/93/7f/7d/78ec535a4340ef2696aad8b17fe8bb063d56301bd62881b069\n",
      "Successfully built multiprocess dill\n",
      "Installing collected packages: xxhash, dill, multiprocess, pytz, numpy, pandas, chardet, idna, urllib3, requests, pyarrow, filelock, tqdm, datasets\n",
      "Successfully installed chardet-3.0.4 datasets-1.1.0 dill-0.3.2 filelock-3.0.12 idna-2.10 multiprocess-0.70.10 numpy-1.19.2 pandas-1.1.2 pyarrow-1.0.1 pytz-2020.1 requests-2.24.0 tqdm-4.50.0 urllib3-1.25.10 xxhash-2.0.0\n",
      "Note: you may need to restart the kernel to use updated packages.\n"
     ]
    }
   ],
   "source": [
    "pip install datasets"
   ]
  },
  {
   "cell_type": "code",
   "execution_count": 1,
   "metadata": {},
   "outputs": [],
   "source": [
    "from datasets import load_dataset"
   ]
  },
  {
   "cell_type": "code",
   "execution_count": 2,
   "metadata": {},
   "outputs": [
    {
     "name": "stderr",
     "output_type": "stream",
     "text": [
      "Using custom data configuration default\n",
      "Reusing dataset billsum (/Users/jonah/.cache/huggingface/datasets/billsum/default/3.0.0/dfbb38fcc96577d054cdcb8accc369486d1a2281a6a2ce938ad7f0b652f3416e)\n"
     ]
    }
   ],
   "source": [
    "dataset = load_dataset('billsum')"
   ]
  },
  {
   "cell_type": "code",
   "execution_count": 3,
   "metadata": {},
   "outputs": [
    {
     "data": {
      "text/plain": [
       "DatasetDict({'train': Dataset(features: {'text': Value(dtype='string', id=None), 'summary': Value(dtype='string', id=None), 'title': Value(dtype='string', id=None)}, num_rows: 18949), 'test': Dataset(features: {'text': Value(dtype='string', id=None), 'summary': Value(dtype='string', id=None), 'title': Value(dtype='string', id=None)}, num_rows: 3269), 'ca_test': Dataset(features: {'text': Value(dtype='string', id=None), 'summary': Value(dtype='string', id=None), 'title': Value(dtype='string', id=None)}, num_rows: 1237)})"
      ]
     },
     "execution_count": 3,
     "metadata": {},
     "output_type": "execute_result"
    }
   ],
   "source": [
    "dataset"
   ]
  },
  {
   "cell_type": "code",
   "execution_count": 4,
   "metadata": {},
   "outputs": [
    {
     "data": {
      "text/plain": [
       "Dataset(features: {'text': Value(dtype='string', id=None), 'summary': Value(dtype='string', id=None), 'title': Value(dtype='string', id=None)}, num_rows: 18949)"
      ]
     },
     "execution_count": 4,
     "metadata": {},
     "output_type": "execute_result"
    }
   ],
   "source": [
    "dataset['train']"
   ]
  },
  {
   "cell_type": "code",
   "execution_count": 4,
   "metadata": {},
   "outputs": [
    {
     "ename": "NameError",
     "evalue": "name 'features' is not defined",
     "output_type": "error",
     "traceback": [
      "\u001b[0;31m---------------------------------------------------------------------------\u001b[0m",
      "\u001b[0;31mNameError\u001b[0m                                 Traceback (most recent call last)",
      "\u001b[0;32m<ipython-input-4-c970395444f6>\u001b[0m in \u001b[0;36m<module>\u001b[0;34m\u001b[0m\n\u001b[0;32m----> 1\u001b[0;31m \u001b[0mdataset\u001b[0m\u001b[0;34m[\u001b[0m\u001b[0;34m'train'\u001b[0m\u001b[0;34m]\u001b[0m\u001b[0;34m[\u001b[0m\u001b[0mfeatures\u001b[0m\u001b[0;34m]\u001b[0m\u001b[0;34m\u001b[0m\u001b[0;34m\u001b[0m\u001b[0m\n\u001b[0m",
      "\u001b[0;31mNameError\u001b[0m: name 'features' is not defined"
     ]
    }
   ],
   "source": [
    "dataset['train'][features]"
   ]
  },
  {
   "cell_type": "code",
   "execution_count": 5,
   "metadata": {},
   "outputs": [
    {
     "data": {
      "text/plain": [
       "\"SECTION 1. LIABILITY OF BUSINESS ENTITIES PROVIDING USE OF FACILITIES \\n              TO NONPROFIT ORGANIZATIONS.\\n\\n    (a) Definitions.--In this section:\\n            (1) Business entity.--The term ``business entity'' means a \\n        firm, corporation, association, partnership, consortium, joint \\n        venture, or other form of enterprise.\\n            (2) Facility.--The term ``facility'' means any real \\n        property, including any building, improvement, or appurtenance.\\n            (3) Gross negligence.--The term ``gross negligence'' means \\n        voluntary and conscious conduct by a person with knowledge (at \\n        the time of the conduct) that the conduct is likely to be \\n        harmful to the health or well-being of another person.\\n            (4) Intentional misconduct.--The term ``intentional \\n        misconduct'' means conduct by a person with knowledge (at the \\n        time of the conduct) that the conduct is harmful to the health \\n        or well-being of another person.\\n            (5) Nonprofit organization.--The term ``nonprofit \\n        organization'' means--\\n                    (A) any organization described in section 501(c)(3) \\n                of the Internal Revenue Code of 1986 and exempt from \\n                tax under section 501(a) of such Code; or\\n                    (B) any not-for-profit organization organized and \\n                conducted for public benefit and operated primarily for \\n                charitable, civic, educational, religious, welfare, or \\n                health purposes.\\n            (6) State.--The term ``State'' means each of the several \\n        States, the District of Columbia, the Commonwealth of Puerto \\n        Rico, the Virgin Islands, Guam, American Samoa, the Northern \\n        Mariana Islands, any other territory or possession of the \\n        United States, or any political subdivision of any such State, \\n        territory, or possession.\\n    (b) Limitation on Liability.--\\n            (1) In general.--Subject to subsection (c), a business \\n        entity shall not be subject to civil liability relating to any \\n        injury or death occurring at a facility of the business entity \\n        in connection with a use of such facility by a nonprofit \\n        organization if--\\n                    (A) the use occurs outside of the scope of business \\n                of the business entity;\\n                    (B) such injury or death occurs during a period \\n                that such facility is used by the nonprofit \\n                organization; and\\n                    (C) the business entity authorized the use of such \\n                facility by the nonprofit organization.\\n            (2) Application.--This subsection shall apply--\\n                    (A) with respect to civil liability under Federal \\n                and State law; and\\n                    (B) regardless of whether a nonprofit organization \\n                pays for the use of a facility.\\n    (c) Exception for Liability.--Subsection (b) shall not apply to an \\ninjury or death that results from an act or omission of a business \\nentity that constitutes gross negligence or intentional misconduct, \\nincluding any misconduct that--\\n            (1) constitutes a crime of violence (as that term is \\n        defined in section 16 of title 18, United States Code) or act \\n        of international terrorism (as that term is defined in section \\n        2331 of title 18) for which the defendant has been convicted in \\n        any court;\\n            (2) constitutes a hate crime (as that term is used in the \\n        Hate Crime Statistics Act (28 U.S.C. 534 note));\\n            (3) involves a sexual offense, as defined by applicable \\n        State law, for which the defendant has been convicted in any \\n        court; or\\n            (4) involves misconduct for which the defendant has been \\n        found to have violated a Federal or State civil rights law.\\n    (d) Superseding Provision.--\\n            (1) In general.--Subject to paragraph (2) and subsection \\n        (e), this Act preempts the laws of any State to the extent that \\n        such laws are inconsistent with this Act, except that this Act \\n        shall not preempt any State law that provides additional \\n        protection from liability for a business entity for an injury \\n        or death with respect to which conditions under subparagraphs \\n        (A) through (C) of subsection (b)(1) apply.\\n            (2) Limitation.--Nothing in this Act shall be construed to \\n        supersede any Federal or State health or safety law.\\n    (e) Election of State Regarding Nonapplicability.--This Act shall \\nnot apply to any civil action in a State court against a business \\nentity in which all parties are citizens of the State if such State \\nenacts a statute--\\n            (1) citing the authority of this subsection;\\n            (2) declaring the election of such State that this Act \\n        shall not apply to such civil action in the State; and\\n            (3) containing no other provision.\""
      ]
     },
     "execution_count": 5,
     "metadata": {},
     "output_type": "execute_result"
    }
   ],
   "source": [
    "dataset['train']['text'][0]"
   ]
  },
  {
   "cell_type": "code",
   "execution_count": 6,
   "metadata": {},
   "outputs": [
    {
     "data": {
      "text/plain": [
       "\"SECTION 1. SHORT TITLE.\\n\\n    This Act may be cited as the ``Human Rights Information Act''.\\n\\nSEC. 2. FINDINGS.\\n\\n    Congress finds the following:\\n            (1) The people of the United States consider the national \\n        and international protection and promotion of human rights and \\n        the rule of law the most important values of any democracy. The \\n        founding fathers defined human rights prominently in the Bill \\n        of Rights, giving those rights a special priority and \\n        protection in the Constitution.\\n            (2) Federal agencies are in possession of documents \\n        pertaining to gross human rights violations abroad which are \\n        needed by foreign authorities to document, investigate, and \\n        subsequently prosecute instances of continued and systematic \\n        gross human rights violations, including those directed against \\n        citizens of the United States.\\n            (3) The United States will continue to receive requests \\n        from foreign authorities for legal assistance regarding human \\n        rights violations, including the declassification of documents. \\n        In addition to requests by Guatemala and Honduras, a Spanish \\n        court magistrate, Baltasar Garzon, recently requested from the \\n        United States information on General Augusto Pinochet. \\n        Currently, the United States responds to declassification \\n        requests by following procedures outlined in Presidential \\n        directives and executive orders. The overwhelming interest of \\n        the United States in the protection and promotion of human \\n        rights nationally and internationally requires a significant \\n        strengthening of existing declassification procedures, \\n        including section 552 of title 5, United States Code (commonly \\n        known as the ``Freedom of Information Act'').\\n            (4) The expedient declassification of human rights \\n        documents in full compliance with United States security \\n        interests according to the procedures outlined in this Act will \\n        protect global human rights by strengthening the rule of law \\n        internationally, creating a crucial level of accountability of \\n        Federal agencies, and will result in significant saving of \\n        Government resources.\\n            (5) The commitment to the promotion and protection of human \\n        rights and democracy around the world has led the United States \\n        to undertake tremendous diplomatic, economic, and military \\n        efforts to end systematic gross human rights violations abroad, \\n        consistent with the national interests and international \\n        leadership role of the United States. In addition, countless \\n        humanitarian United States nongovernmental organizations and \\n        citizens of the United States promote human rights and \\n        democracy in foreign countries. These efforts are thwarted if \\n        the cycle of impunity for human rights violations is not broken \\n        in those countries, and the likelihood of the need for renewed \\n        United States engagements in those areas remains.\\n            (6) The United States therefore has a significant interest \\n        that newly established or reestablished democratic societies \\n        take credible steps to fully investigate and prosecute human \\n        rights violations. These steps can include the creation of a \\n        national or international truth commission or tribunal, the \\n        appointment of a human rights officer, or official national \\n        investigations led by credible sections of the civil society, \\n        including churches and nongovernmental organizations.\\n            (7) The United States has long provided international \\n        leadership to end impunity for gross human rights violations \\n        and to promote the rule of law around the world by establishing \\n        and supporting the Nuremberg and Tokyo War Crimes Tribunal; in \\n        addition, the United States has actively participated in, among \\n        others, the International War Crimes Tribunals on the former \\n        Yugoslavia and Rwanda.\\n            (8) The United States has ratified the Convention against \\n        Torture and Other Cruel, Inhuman or Degrading Treatment or \\nPunishment, which in article 9 obligates parties to ``afford one \\nanother the greatest measure of assistance in connection with criminal \\nproceedings brought in respect of any [acts of, attempts of, or \\ncomplicity in acts of torture], including the supply of all evidence at \\ntheir disposal necessary for the proceedings.'' In addition, as a \\nmember State of the Organization of American States, the United States \\nshould seek to follow the December 8, 1998, recommendation of the \\nInter-American Commission on Human Rights ``that member States of the \\nOrganization of American States adopt legislative and such other \\nmeasures as may be necessary to effectuate the right of free access to \\ninformation in files and documents in the power of the State, \\nparticularly in cases of investigations to establish criminal \\nresponsibility for international crimes and serious violations of human \\nrights.''\\n            (9) The Guatemalan peace accords, which the Government of \\n        the United States firmly supports, included as an important and \\n        vital component an investigation and a report by the Commission \\n        for the Historical Clarification of Human Rights Violations and \\n        Acts of Violence which have Caused Suffering to the Guatemalan \\n        People (referred to in this Act as the ``Clarification \\n        Commission''). Despite the conclusion of this investigation, \\n        many questions, including the identity of perpetrators of human \\n        rights violations as well as the location of bodies of the \\n        ``disappeared'', remain unanswered. The Clarification \\n        Commission explicitly recommended that ``all available legal \\n        and material resources should be utilized [by the Guatemalan \\n        Government] to clarify the whereabouts of the disappeared and, \\n        in the case of death, to deliver the remains to the \\n        relatives.''\\n            (10) Two days after presenting a parallel investigation, \\n        ``Guatemala: Never Again'', by the Historical Memory Recovery \\n        Project by the Archbishop of Guatemala, the director of the \\n        project, Bishop Juan Jose Gerardi, was assassinated.\\n            (11) President Clinton stated in Guatemala on March 10, \\n        1999, that ``[f]or the United States, it is important that I \\n        state clearly that support for military forces or intelligence \\n        units which engaged in violent and widespread repression of the \\n        kind described in the report [by the Clarification Commission] \\n        was wrong, and the United States must not repeat that mistake. \\n        We must, and we will, instead, continue to support the peace \\n        and reconciliation process in Guatemala.''\\n            (12) The National Commissioner for the Protection of Human \\n        Rights in the Republic of Honduras has been requesting \\n        documentation of the United States on human rights violations \\n        in Honduras since November 15, 1993. The Commissioner's request \\n        has been partly fulfilled, but aspects of it are still pending.\\n\\nSEC. 3. DEFINITIONS.\\n\\n    In this Act:\\n            (1) Human rights record.--The term ``human rights record'' \\n        means a record in the possession, custody, or control of the \\n        United States Government containing information about gross \\n        violations of internationally recognized human rights committed \\n        after 1944.\\n            (2) Agency.--The term ``agency'' means any agency of the \\n        United States Government charged with the conduct of foreign \\n        policy or foreign intelligence, including, but not limited to, \\n        the Department of State, the Agency for International \\n        Development, the Department of Defense (and all of its \\n        components), the Central Intelligence Agency, the National \\n        Reconnaissance Office, the Department of Justice (and all of \\n        its components), the National Security Council, and the \\n        Executive Office of the President.\\n            (3) Gross violations of internationally recognized human \\n        rights.--The term ``gross violations of internationally \\n        recognized human rights'' has the meaning given that term in \\n        section 502B(d)(1) of the Foreign Assistance Act of 1961 (22 \\n        U.S.C. 2304(d)(1)).\\n\\nSEC. 4. IDENTIFICATION, REVIEW, AND PUBLIC DISCLOSURE OF HUMAN RIGHTS \\n              RECORDS REGARDING GUATEMALA AND HONDURAS.\\n\\n    (a) In General.--Notwithstanding any other provision of law, the \\nprovisions of this Act shall govern the declassification and public \\ndisclosure of human rights records by agencies.\\n    (b) Identification of Records.--Not later than 120 days after the \\ndate of enactment of this Act, each agency shall identify, review, and \\norganize all human rights records regarding activities occurring in \\nGuatemala and Honduras after 1944 for the purpose of declassifying and \\ndisclosing the records to the public. Except as provided in section 5, \\nall records described in the preceding sentence shall be made available \\nto the public not later than 30 days after a review under this section \\nis completed.\\n    (c) Report to Congress.--Not later than 150 days after the date of \\nenactment of this Act, the President shall report to Congress regarding \\neach agency's compliance with the provisions of this Act.\\n\\nSEC. 5. GROUNDS FOR POSTPONEMENT OF PUBLIC DISCLOSURE OF RECORDS.\\n\\n    (a) In General.--An agency may postpone public disclosure of a \\nhuman rights record or particular information in a human rights record \\nonly if the agency determines that there is clear and convincing \\nevidence that--\\n            (1) the threat to the military defense, intelligence \\n        operations, or conduct of foreign relations of the United \\n        States raised by public disclosure of the human rights record \\n        is of such gravity that it outweighs the public interest, and \\n        such public disclosure would reveal--\\n                    (A) an intelligence agent whose identity currently \\n                requires protection;\\n                    (B) an intelligence source or method--\\n                            (i) which is being utilized, or reasonably \\n                        expected to be utilized, by the United States \\n                        Government;\\n                            (ii) which has not been officially \\n                        disclosed; and\\n                            (iii) the disclosure of which would \\n                        interfere with the conduct of intelligence \\n                        activities; or\\n                    (C) any other matter currently relating to the \\n                military defense, intelligence operations, or conduct \\n                of foreign relations of the United States, the \\n                disclosure of which would demonstrably impair the \\n                national security of the \\n                United States;\\n            (2) the public disclosure of the human rights record would \\n        reveal the name or identity of a living individual who provided \\n        confidential information to the United States and would pose a \\n        substantial risk of harm to that individual;\\n            (3) the public disclosure of the human rights record could \\n        reasonably be expected to constitute an unwarranted invasion of \\n        personal privacy, and that invasion of privacy is so \\n        substantial that it outweighs the public interest; or\\n            (4) the public disclosure of the human rights record would \\n        compromise the existence of an understanding of confidentiality \\n        currently requiring protection between a Government agent and a \\n        cooperating individual or a foreign government, and public \\n        disclosure would be so harmful that it outweighs the public \\n        interest.\\n    (b) Special Treatment of Certain Information.--It shall not be \\ngrounds for postponement of disclosure of a human rights record that an \\nindividual named in the human rights record was an intelligence asset \\nof the United States Government, although the existence of such \\nrelationship may be withheld if the criteria set forth in subsection \\n(a) are met. For purposes of the preceding sentence, the term an \\n``intelligence asset'' means a covert agent as defined in section \\n606(4) of the National Security Act of 1947 (50 U.S.C. 426(4)).\\n\\nSEC. 6. REQUEST FOR HUMAN RIGHTS RECORDS FROM OFFICIAL ENTITIES IN \\n              OTHER COUNTRIES.\\n\\n    In the event that an agency of the United States receives a request \\nfor human rights records from an entity created by the United Nations, \\nthe Organization of American States or a similar entity, a national \\ntruth commission or entity of similar nature, or from the principal \\njustice or human rights official of a country that is investigating a \\npattern of gross violations of internationally recognized human rights, \\nthe agency shall conduct a review of records as described in section 4 \\nand shall declassify and publicly disclose such records in accordance \\nwith the standards and procedures set forth in this Act.\\n\\nSEC. 7. REVIEW OF DECISIONS TO WITHHOLD RECORDS.\\n\\n    (a) Duties of the Appeals Panel.--The Interagency Security \\nClassification Appeals Panel or any other entity subsequently \\nestablished by law or Executive order and charged with carrying out the \\nfunctions currently carried out by such Panel (referred to in this Act \\nas the ``Appeals Panel'') shall review all determinations by an agency \\nto postpone public disclosure of any human rights record.\\n    (b) Determinations of the Appeals Panel.--\\n            (1) In general.--The Appeals Panel shall direct that all \\n        human rights records be disclosed to the public, unless the \\n        Appeals Panel determines that there is clear and convincing \\n        evidence that--\\n                    (A) the record is not a human rights record; or\\n                    (B) the human rights record or particular \\n                information in the human rights record qualifies for \\n                postponement of disclosure pursuant to section 5.\\n            (2) Treatment in cases of nondisclosure.--If the Appeals \\n        Panel concurs with an agency decision to postpone disclosure of \\n        a human rights record, the Appeals Panel shall determine, in \\n        consultation with the originating agency and consistent with \\nthe standards set forth in this Act, which, if any, of the alternative \\nforms of disclosure described in paragraph (3) shall be made by the \\nagency.\\n            (3) Alternative forms of disclosure.--The forms of \\n        disclosure described in this paragraph are as follows:\\n                    (A) Disclosure of any reasonably segregable portion \\n                of the human rights record after deletion of the \\n                portions described in paragraph (1).\\n                    (B) Disclosure of a record that is a substitute for \\n                information which is not disclosed.\\n                    (C) Disclosure of a summary of the information \\n                contained in the human rights record.\\n            (4) Notification of determination.--\\n                    (A) In general.--Upon completion of its review, the \\n                Appeals Panel shall notify the head of the agency in \\n                control or possession of the human rights record that \\n                was the subject of the review of its determination and \\n                shall, not later than 14 days after the determination, \\n                publish the determination in the Federal Register.\\n                    (B) Notice to president.--The Appeals Panel shall \\n                notify the President of its determination. The notice \\n                shall contain a written unclassified justification for \\n                its determination, including an explanation of the \\n                application of the standards contained in section 5.\\n            (5) General procedures.--The Appeals Panel shall publish in \\n        the Federal Register guidelines regarding its policy and \\n        procedures for adjudicating appeals.\\n    (c) Presidential Authority Over Appeals Panel Determination.--\\n            (1) Public disclosure or postponement of disclosure.--The \\n        President shall have the sole and nondelegable authority to \\n        review any determination of the Appeals Panel under this Act, \\n        and such review shall be based on the standards set forth in \\n        section 5. Not later than 30 days after the Appeals Panel's \\n        determination and notification to the agency pursuant to \\n        subsection (b)(4), the President shall provide the Appeals \\n        Panel with an unclassified written certification specifying the \\n        President's decision and stating the reasons for the decision, \\n        including in the case of a determination to postpone \\n        disclosure, the standards set forth in section 5 which are the \\n        basis for the President's determination.\\n            (2) Record of presidential postponement.--The Appeals Panel \\n        shall, upon receipt of the President's determination, publish \\n        in the Federal Register a copy of any unclassified written \\n        certification, statement, and other materials transmitted by or \\n        on behalf of the President with regard to the postponement of \\n        disclosure of a human rights record.\\n\\nSEC. 8. REPORT REGARDING OTHER HUMAN RIGHTS RECORDS.\\n\\n    Upon completion of the review and disclosure of the human rights \\nrecords relating to Guatemala and Honduras, the Information Security \\nPolicy Advisory Council, established pursuant to Executive Order No. \\n12958, shall report to Congress on the desirability and feasibility of \\ndeclassification of human rights records relating to other countries. \\nThe report shall be available to the public.\\n\\nSEC. 9. RULES OF CONSTRUCTION.\\n\\n    (a) Freedom of Information Act.--Nothing in this Act shall be \\nconstrued to limit any right to file a request with any executive \\nagency or seek judicial review of a decision pursuant to section 552 of \\ntitle 5, United States Code.\\n    (b) Judicial Review.--Nothing in this Act shall be construed to \\npreclude judicial review, under chapter 7 of title 5, United States \\nCode, of final actions taken or required to be taken under this Act.\\n\\nSEC. 10. CREATION OF POSITIONS.\\n\\n    For purposes of carrying out the provisions of this Act, there \\nshall be 2 additional positions in the Appeals Panel. The President \\nshall appoint individuals who are not employees of the United States \\nwho have demonstrated substantial human rights expertise and who are \\nable to meet the security requirements for the positions. The President \\nshall seek recommendations with respect to such positions from \\nnongovernmental human rights organizations.\""
      ]
     },
     "execution_count": 6,
     "metadata": {},
     "output_type": "execute_result"
    }
   ],
   "source": [
    "dataset['train']['text'][1]"
   ]
  },
  {
   "cell_type": "code",
   "execution_count": 8,
   "metadata": {},
   "outputs": [
    {
     "name": "stderr",
     "output_type": "stream",
     "text": [
      "Reusing dataset cnn_dailymail (/Users/jonah/.cache/huggingface/datasets/cnn_dailymail/3.0.0/3.0.0/0128610a44e10f25b4af6689441c72af86205282d26399642f7db38fa7535602)\n"
     ]
    }
   ],
   "source": [
    "dataset2 = load_dataset('cnn_dailymail', '3.0.0')"
   ]
  },
  {
   "cell_type": "code",
   "execution_count": 9,
   "metadata": {},
   "outputs": [
    {
     "data": {
      "text/plain": [
       "DatasetDict({'train': Dataset(features: {'article': Value(dtype='string', id=None), 'highlights': Value(dtype='string', id=None), 'id': Value(dtype='string', id=None)}, num_rows: 287113), 'validation': Dataset(features: {'article': Value(dtype='string', id=None), 'highlights': Value(dtype='string', id=None), 'id': Value(dtype='string', id=None)}, num_rows: 13368), 'test': Dataset(features: {'article': Value(dtype='string', id=None), 'highlights': Value(dtype='string', id=None), 'id': Value(dtype='string', id=None)}, num_rows: 11490)})"
      ]
     },
     "execution_count": 9,
     "metadata": {},
     "output_type": "execute_result"
    }
   ],
   "source": [
    "dataset2"
   ]
  },
  {
   "cell_type": "code",
   "execution_count": 10,
   "metadata": {},
   "outputs": [
    {
     "data": {
      "text/plain": [
       "Dataset(features: {'article': Value(dtype='string', id=None), 'highlights': Value(dtype='string', id=None), 'id': Value(dtype='string', id=None)}, num_rows: 287113)"
      ]
     },
     "execution_count": 10,
     "metadata": {},
     "output_type": "execute_result"
    }
   ],
   "source": [
    "dataset2['train']"
   ]
  },
  {
   "cell_type": "code",
   "execution_count": 9,
   "metadata": {},
   "outputs": [
    {
     "data": {
      "text/plain": [
       "'It\\'s official: U.S. President Barack Obama wants lawmakers to weigh in on whether to use military force in Syria. Obama sent a letter to the heads of the House and Senate on Saturday night, hours after announcing that he believes military action against Syrian targets is the right step to take over the alleged use of chemical weapons. The proposed legislation from Obama asks Congress to approve the use of military force \"to deter, disrupt, prevent and degrade the potential for future uses of chemical weapons or other weapons of mass destruction.\" It\\'s a step that is set to turn an international crisis into a fierce domestic political battle. There are key questions looming over the debate: What did U.N. weapons inspectors find in Syria? What happens if Congress votes no? And how will the Syrian government react? In a televised address from the White House Rose Garden earlier Saturday, the president said he would take his case to Congress, not because he has to -- but because he wants to. \"While I believe I have the authority to carry out this military action without specific congressional authorization, I know that the country will be stronger if we take this course, and our actions will be even more effective,\" he said. \"We should have this debate, because the issues are too big for business as usual.\" Obama said top congressional leaders had agreed to schedule a debate when the body returns to Washington on September 9. The Senate Foreign Relations Committee will hold a hearing over the matter on Tuesday, Sen. Robert Menendez said. Transcript: Read Obama\\'s full remarks . Syrian crisis: Latest developments . U.N. inspectors leave Syria . Obama\\'s remarks came shortly after U.N. inspectors left Syria, carrying evidence that will determine whether chemical weapons were used in an attack early last week in a Damascus suburb. \"The aim of the game here, the mandate, is very clear -- and that is to ascertain whether chemical weapons were used -- and not by whom,\" U.N. spokesman Martin Nesirky told reporters on Saturday. But who used the weapons in the reported toxic gas attack in a Damascus suburb on August 21 has been a key point of global debate over the Syrian crisis. Top U.S. officials have said there\\'s no doubt that the Syrian government was behind it, while Syrian officials have denied responsibility and blamed jihadists fighting with the rebels. British and U.S. intelligence reports say the attack involved chemical weapons, but U.N. officials have stressed the importance of waiting for an official report from inspectors. The inspectors will share their findings with U.N. Secretary-General Ban Ki-moon Ban, who has said he wants to wait until the U.N. team\\'s final report is completed before presenting it to the U.N. Security Council. The Organization for the Prohibition of Chemical Weapons, which nine of the inspectors belong to, said Saturday that it could take up to three weeks to analyze the evidence they collected. \"It needs time to be able to analyze the information and the samples,\" Nesirky said. He noted that Ban has repeatedly said there is no alternative to a political solution to the crisis in Syria, and that \"a military solution is not an option.\" Bergen:  Syria is a problem from hell for the U.S. Obama: \\'This menace must be confronted\\' Obama\\'s senior advisers have debated the next steps to take, and the president\\'s comments Saturday came amid mounting political pressure over the situation in Syria. Some U.S. lawmakers have called for immediate action while others warn of stepping into what could become a quagmire. Some global leaders have expressed support, but the British Parliament\\'s vote against military action earlier this week was a blow to Obama\\'s hopes of getting strong backing from key NATO allies. On Saturday, Obama proposed what he said would be a limited military action against Syrian President Bashar al-Assad. Any military attack would not be open-ended or include U.S. ground forces, he said. Syria\\'s alleged use of chemical weapons earlier this month \"is an assault on human dignity,\" the president said. A failure to respond with force, Obama argued,  \"could lead to escalating use of chemical weapons or their proliferation to terrorist groups who would do our people harm. In a world with many dangers, this menace must be confronted.\" Syria missile strike: What would happen next? Map: U.S. and allied assets around Syria . Obama decision came Friday night . On Friday night, the president made a last-minute decision to consult lawmakers. What will happen if they vote no? It\\'s unclear. A senior administration official told CNN that Obama has the authority to act without Congress -- even if Congress rejects his request for authorization to use force. Obama on Saturday continued to shore up support for a strike on the al-Assad government. He spoke by phone with French President Francois Hollande before his Rose Garden speech. \"The two leaders agreed that the international community must deliver a resolute message to the Assad regime -- and others who would consider using chemical weapons -- that these crimes are unacceptable and those who violate this international norm will be held accountable by the world,\" the White House said. Meanwhile, as uncertainty loomed over how Congress would weigh in, U.S. military officials said they remained at the ready. 5 key assertions: U.S. intelligence report on Syria . Syria: Who wants what after chemical weapons horror . Reactions mixed to Obama\\'s speech . A spokesman for the Syrian National Coalition said that the opposition group was disappointed by Obama\\'s announcement. \"Our fear now is that the lack of action could embolden the regime and they repeat his attacks in a more serious way,\" said spokesman Louay Safi. \"So we are quite concerned.\" Some members of Congress applauded Obama\\'s decision. House Speaker John Boehner, Majority Leader Eric Cantor, Majority Whip Kevin McCarthy and Conference Chair Cathy McMorris Rodgers issued a statement Saturday praising the president. \"Under the Constitution, the responsibility to declare war lies with Congress,\" the Republican lawmakers said. \"We are glad the president is seeking authorization for any military action in Syria in response to serious, substantive questions being raised.\" More than 160 legislators, including 63 of Obama\\'s fellow Democrats, had signed letters calling for either a vote or at least a \"full debate\" before any U.S. action. British Prime Minister David Cameron, whose own attempt to get lawmakers in his country to support military action in Syria failed earlier this week, responded to Obama\\'s speech in a Twitter post Saturday. \"I understand and support Barack Obama\\'s position on Syria,\" Cameron said. An influential lawmaker in Russia -- which has stood by Syria and criticized the United States -- had his own theory. \"The main reason Obama is turning to the Congress:  the military operation did not get enough support either in the world, among allies of the US or in the United States itself,\" Alexei Pushkov, chairman of the international-affairs committee of the Russian State Duma, said in a Twitter post. In the United States, scattered groups of anti-war protesters around the country took to the streets Saturday. \"Like many other Americans...we\\'re just tired of the United States getting involved and invading and bombing other countries,\" said Robin Rosecrans, who was among hundreds at a Los Angeles demonstration. What do Syria\\'s neighbors think? Why Russia, China, Iran stand by Assad . Syria\\'s government unfazed . After Obama\\'s speech, a military and political analyst on Syrian state TV said Obama is \"embarrassed\" that Russia opposes military action against Syria, is \"crying for help\" for someone to come to his rescue and is facing two defeats -- on the political and military levels. Syria\\'s prime minister appeared unfazed by the saber-rattling. \"The Syrian Army\\'s status is on maximum readiness and fingers are on the trigger to confront all challenges,\" Wael Nader al-Halqi said during a meeting with a delegation of Syrian expatriates from Italy, according to a banner on Syria State TV that was broadcast prior to Obama\\'s address. An anchor on Syrian state television said Obama \"appeared to be preparing for an aggression on Syria based on repeated lies.\" A top Syrian diplomat told the state television network that Obama was facing pressure to take military action from Israel, Turkey, some Arabs and right-wing extremists in the United States. \"I think he has done well by doing what Cameron did in terms of taking the issue to Parliament,\" said Bashar Jaafari, Syria\\'s ambassador to the United Nations. Both Obama and Cameron, he said, \"climbed to the top of the tree and don\\'t know how to get down.\" The Syrian government has denied that it used chemical weapons in the August 21 attack, saying that jihadists fighting with the rebels used them in an effort to turn global sentiments against it. British intelligence had put the number of people killed in the attack at more than 350. On Saturday, Obama said \"all told, well over 1,000 people were murdered.\" U.S. Secretary of State John Kerry on Friday cited a death toll of 1,429, more than 400 of them children. No explanation was offered for the discrepancy. Iran: U.S. military action in Syria would spark \\'disaster\\' Opinion: Why strikes in Syria are a bad idea .'"
      ]
     },
     "execution_count": 9,
     "metadata": {},
     "output_type": "execute_result"
    }
   ],
   "source": [
    "dataset2['train']['article'][0]"
   ]
  },
  {
   "cell_type": "code",
   "execution_count": 17,
   "metadata": {},
   "outputs": [
    {
     "data": {
      "text/plain": [
       "'Syrian official: Obama climbed to the top of the tree, \"doesn\\'t know how to get down\"\\nObama sends a letter to the heads of the House and Senate .\\nObama to seek congressional approval on military action against Syria .\\nAim is to determine whether CW were used, not by whom, says U.N. spokesman .'"
      ]
     },
     "execution_count": 17,
     "metadata": {},
     "output_type": "execute_result"
    }
   ],
   "source": [
    "dataset2['train']['highlights'][0]"
   ]
  },
  {
   "cell_type": "code",
   "execution_count": 15,
   "metadata": {},
   "outputs": [
    {
     "data": {
      "text/plain": [
       "'(CNN)James Best, best known for his portrayal of bumbling sheriff Rosco P. Coltrane on TV\\'s \"The Dukes of Hazzard,\" died Monday after a brief illness. He was 88. Best died in hospice in Hickory, North Carolina, of complications from pneumonia, said Steve Latshaw, a longtime friend and Hollywood colleague. Although he\\'d been a busy actor for decades in theater and in Hollywood, Best didn\\'t become famous until 1979, when \"The Dukes of Hazzard\\'s\" cornpone charms began beaming into millions of American homes almost every Friday night. For seven seasons, Best\\'s Rosco P. Coltrane chased the moonshine-running Duke boys back and forth across the back roads of fictitious Hazzard County, Georgia, although his \"hot pursuit\" usually ended with him crashing his patrol car. Although Rosco was slow-witted and corrupt, Best gave him a childlike enthusiasm that got laughs and made him endearing. His character became known for his distinctive \"kew-kew-kew\" chuckle and for goofy catchphrases such as \"cuff \\'em and stuff \\'em!\" upon making an arrest. Among the most popular shows on TV in the early \\'80s, \"The Dukes of Hazzard\" ran until 1985 and spawned TV movies, an animated series and video games. Several of Best\\'s \"Hazzard\" co-stars paid tribute to the late actor on social media. \"I laughed and learned more from Jimmie in one hour than from anyone else in a whole year,\" co-star John Schneider, who played Bo Duke, said on Twitter. \"Give Uncle Jesse my love when you see him dear friend.\" \"Jimmy Best was the most constantly creative person I have ever known,\" said Ben Jones, who played mechanic Cooter on the show, in a Facebook post. \"Every minute of his long life was spent acting, writing, producing, painting, teaching, fishing, or involved in another of his life\\'s many passions.\" Born Jewel Guy on July 26, 1926, in Powderly, Kentucky, Best was orphaned at 3 and adopted by Armen and Essa Best, who renamed him James and raised him in rural Indiana. Best served in the Army during World War II before launching his acting career. In the 1950s and 1960s, he accumulated scores of credits, playing a range of colorful supporting characters in such TV shows as \"The Twilight Zone,\" \"Bonanza,\" \"The Andy Griffith Show\" and \"Gunsmoke.\" He later appeared in a handful of Burt Reynolds\\' movies, including \"Hooper\" and \"The End.\" But Best will always be best known for his \"Hazzard\" role, which lives on in reruns. \"Jimmie was my teacher, mentor, close friend and collaborator for 26 years,\" Latshaw said. \"I directed two of his feature films, including the recent \\'Return of the Killer Shrews,\\' a sequel he co-wrote and was quite proud of as he had made the first one more than 50 years earlier.\" People we\\'ve lost in 2015 . CNN\\'s Stella Chan contributed to this story.'"
      ]
     },
     "execution_count": 15,
     "metadata": {},
     "output_type": "execute_result"
    }
   ],
   "source": [
    "dataset2['test']['article'][0]"
   ]
  },
  {
   "cell_type": "code",
   "execution_count": 18,
   "metadata": {},
   "outputs": [
    {
     "data": {
      "text/plain": [
       "'James Best, who played the sheriff on \"The Dukes of Hazzard,\" died Monday at 88 .\\n\"Hazzard\" ran from 1979 to 1985 and was among the most popular shows on TV .'"
      ]
     },
     "execution_count": 18,
     "metadata": {},
     "output_type": "execute_result"
    }
   ],
   "source": [
    "dataset2['test']['highlights'][0]"
   ]
  },
  {
   "cell_type": "code",
   "execution_count": null,
   "metadata": {},
   "outputs": [],
   "source": []
  }
 ],
 "metadata": {
  "kernelspec": {
   "display_name": "Python 3",
   "language": "python",
   "name": "python3"
  },
  "language_info": {
   "codemirror_mode": {
    "name": "ipython",
    "version": 3
   },
   "file_extension": ".py",
   "mimetype": "text/x-python",
   "name": "python",
   "nbconvert_exporter": "python",
   "pygments_lexer": "ipython3",
   "version": "3.8.5"
  }
 },
 "nbformat": 4,
 "nbformat_minor": 4
}
