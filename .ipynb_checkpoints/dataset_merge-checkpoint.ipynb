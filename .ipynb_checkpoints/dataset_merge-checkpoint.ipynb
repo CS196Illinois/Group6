{
 "cells": [
  {
   "cell_type": "code",
   "execution_count": null,
   "metadata": {},
   "outputs": [],
   "source": [
    "from datasets import load_dataset\n",
    "\n",
    "# The newsroom dataset is unique in that you need to manually download, unzip, \n",
    "# and refer to the download location just to store it in the huggingface cache\n",
    "newsroom = load_dataset('newsroom', split='test', data_dir='/Users/neilkaushikkar/Downloads/newsroom/.manual_dirs/newsroom')\n",
    "# load all other datasets here..."
   ]
  },
  {
   "cell_type": "code",
   "execution_count": null,
   "metadata": {},
   "outputs": [],
   "source": [
    "# Use this dictionary to store the keys used to acces summary/text in each dataset\n",
    "# This is to account for different naming conventions between the datasets we use\n",
    "\n",
    "dataset_keys = {\n",
    "    'newsroom': {\n",
    "        'DATASET_OBJ': newsroom,\n",
    "        'TEXT': 'text',\n",
    "        'SMRY': 'summary'\n",
    "    },\n",
    "    'arXiv': {\n",
    "        # ... fill in the rest\n",
    "    } # ...add all other datasets\n",
    "}"
   ]
  },
  {
   "cell_type": "code",
   "execution_count": null,
   "metadata": {},
   "outputs": [],
   "source": [
    "processed_datasets = { }\n",
    "\n",
    "# Change <demo_processing> to False if you want to process each ENTIRE dataset \n",
    "demo_processing = True  \n",
    "\n",
    "if demo_processing:\n",
    "    print('DEMO MODE ACTIVE\\n\\n')\n",
    "\n",
    "# Currently, this code will store the processed datasets as a list of entries \n",
    "# Each entry is stored as a processed string in the form of:\n",
    "# [TEXT]\n",
    "# blah blah\n",
    "# ...\n",
    "# blah blah\n",
    "# [SMRY]\n",
    "# blah blah\n",
    "# \n",
    "# <START OVER AGAIN>  --> This line is not in the string \n",
    "#                     --> indicates how formatting would look if the entries were concatenated\n",
    "#                     --> entries DO CONTAIN THEIR OWN NEWLINES\n",
    "\n",
    "for name in dataset_dict_keys.keys():\n",
    "    # access respective keys to account for naming conventions\n",
    "    ds_keys = dataset_keys[name]\n",
    "    ds_obj = ds_keys['DATASET_OBJ']\n",
    "    \n",
    "    processed_entries = []\n",
    "    for index, entry in enumerate(ds_obj):\n",
    "        # Get text and prepare for processing\n",
    "        text = entry[ds_keys['TEXT']]\n",
    "        smry = entry[ds_keys['SMRY']]\n",
    "        assert type(text) == str and type(smry) == str\n",
    "        # concatenate break indicators and actual text/summaries\n",
    "        processed_entries.append(''.join(['[TEXT]\\n', text, '\\n[SMRY]\\n', smry, '\\n\\n']))\n",
    "        if not index % 1000:\n",
    "            print('Processing Dataset \\\"%s\\\" at Index %d' % (name, index))\n",
    "            if demo_processing and index == 2000:\n",
    "                break\n",
    "    print('\\nFINISHED Processing Dataset \\\"%s\\\"\\n' % name)\n",
    "    processed_datasets[name] = processed_entries\n",
    "\n",
    "\n",
    "# To combine one dataset into a single string for training/testing, use the following:\n",
    "# ''.join(processed_datasets[<name_of_dataset>])\n",
    "# To combine the entire dictionary of datasets into a single string, use the following:\n",
    "# ''.join([''.join(processed_datasets[name]) for name in processed_datasets.keys()])\n",
    "\n",
    "\n",
    "# long_string_of_datasets = ''.join(processed_datasets[name])"
   ]
  },
  {
   "cell_type": "code",
   "execution_count": null,
   "metadata": {},
   "outputs": [],
   "source": []
  }
 ],
 "metadata": {
  "kernelspec": {
   "display_name": "Python 3",
   "language": "python",
   "name": "python3"
  },
  "language_info": {
   "codemirror_mode": {
    "name": "ipython",
    "version": 3
   },
   "file_extension": ".py",
   "mimetype": "text/x-python",
   "name": "python",
   "nbconvert_exporter": "python",
   "pygments_lexer": "ipython3",
   "version": "3.8.3"
  }
 },
 "nbformat": 4,
 "nbformat_minor": 4
}
