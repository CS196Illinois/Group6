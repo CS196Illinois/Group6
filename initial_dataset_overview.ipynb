{
 "cells": [
  {
   "cell_type": "markdown",
   "metadata": {},
   "source": [
    "Dataset: AG_NEWS"
   ]
  },
  {
   "cell_type": "code",
   "execution_count": 54,
   "metadata": {},
   "outputs": [
    {
     "name": "stderr",
     "output_type": "stream",
     "text": [
      "Using custom data configuration default\n",
      "Reusing dataset ag_news (/Users/neilkaushikkar/.cache/huggingface/datasets/ag_news/default/0.0.0/fb5c5e74a110037311ef5e904583ce9f8b9fbc1354290f97b4929f01b3f48b1a)\n"
     ]
    }
   ],
   "source": [
    "from datasets import load_dataset\n",
    "\n",
    "ds = load_dataset('ag_news')"
   ]
  },
  {
   "cell_type": "code",
   "execution_count": 56,
   "metadata": {},
   "outputs": [
    {
     "name": "stdout",
     "output_type": "stream",
     "text": [
      "0 Blair urged to launch Iraq death toll probe A group of former British diplomats, peers, scientists and church leaders will today urge Tony Blair to launch an inquiry into the death toll of the Iraq war.\n",
      "0 Snow to Stay on With Bush, Principi Exits (AP) AP - Treasury Secretary John Snow, an aggressive champion of the administration's economic policies, accepted President Bush's offer Wednesday to remain in the Cabinet.\n",
      "1 Heisman Horses Come Down to the Wire Entering the final week for Heisman Trophy voters to make their decision, the race has turned out tighter than it was believed to be last week.\n",
      "1 Sandy Alomar Agrees to Sign With Rangers (AP) AP - Six-time All-Star catcher Sandy Alomar Jr. agreed Wednesday to a  #36;550,000, one-year contract with the Texas Rangers to be a part-time player next season.\n",
      "2 Wine Shipping Case Heard by Supreme Court The US Supreme Court heard arguments Tuesday in a case that could have a major impact on California #39;s wine industry. At issue is whether states can bar people from buying wine directly from out-of-state suppliers.\n",
      "2 Yukos echo in Russian telco #39;s tax bill ALARM has spread through the Russian investment community as authorities slapped a tax bill of almost \\$US160 million (\\$210 million) on the number two mobile operator, in what is widely seen as a government-linked campaign against the firm.\n",
      "3 Ellison: Censorship ain't my problem When it comes to touting his company's software, Oracle CEO Larry Ellison is never one to mince words. But when it's the principle of free speech versus the almighty dollar, the bad boy of Silicon Valley is a veritable shrinking violet. Missing Links\n",
      "3 Palm OS for Linux? \\\\Today was a strange day for the Palm OS community:\\\\\"PalmSource also plans to implement Palm OS on top of Linux, bringing the\\benefits of Palm OS to the Linux community, including the award winning user\\interface, software frameworks based on the best of Palm OS and BeOS, a large\\base of professional and consumer applications, and an enthusiastic community\\of more than 25 million users and over 360,000 registered\\developers. PalmSource intends to work as a partner within the Linux community\\to help Linux grow rapidly in the consumer and enterprise mobile markets.\"\\\\This is a great decision!  A bit to late but not much so.  When Sharp released\\the Zaurus into the US market there was a lot o ...\\\\\n"
     ]
    }
   ],
   "source": [
    "# Labels are mapped such that:\n",
    "label_dict = {\n",
    "    'World':0,\n",
    "    'Sports':1,\n",
    "    'Business':2,\n",
    "    'Sci/Tech':3\n",
    "}\n",
    "# Get 8 examples\n",
    "vers = 'test'\n",
    "lbls = range(4)\n",
    "for lbl in lbls:\n",
    "    counter = 0\n",
    "    index = 0\n",
    "    while counter < 2:\n",
    "        val = ds[vers][7000 - index]\n",
    "        if val['label'] == lbl:\n",
    "            print(val['label'], val['text'])\n",
    "            counter+=1\n",
    "        index += 1"
   ]
  },
  {
   "cell_type": "markdown",
   "metadata": {},
   "source": [
    "Overview:\n",
    "- Dataset containing news article titles and a brief summary along with a news type label\n",
    "- Does not contain articles; literally contains ellipses if summary gets long\n",
    "- Formatted as a dictionary\n",
    "- Each entry is a label and a brief blurb from an article\n",
    "- Dataset contains titles pertaining to the World, Sports, Business, and Science/Technology\n",
    "- This seems to be useful for news classification -- not exactly what we have in mind\n",
    "- 12000 train entries / 7600 test entries\n",
    "\n",
    "Samples:\n",
    "- World: \n",
    "    - Rumsfeld warning for Iraq's Sadr The Iraq crisis and differences over Nato loom over the US Defence Secretary's meeting with his Russian counterpart.\n",
    "    - Eye on Athens, China stresses a 'frugal' 2008 Olympics Amid a reevaluation, officials this week pushed the completion date for venues back to 2007.\n",
    "- Sports:\n",
    "    - A-Rods late delivery The way Alex Rodriguez jumped out of the batter #39;s box in the ninth inning last night, he looked as happy as a little leaguer after his first big hit.\n",
    "    - NCAA denies reinstatement request for Mike Williams The NCAA refused to reinstate Southern California All-American Mike Williams on Thursday, leaving the star receiver unable to rejoin the top-ranked Trojans after being shut out of the NFL draft by the courts.\n",
    "- Business:\n",
    "   - Applied Materials Reports Profit in 3Q Applied Materials Inc., the world #39;s largest supplier of machines that make computer chips, Tuesday said surging sales in its latest quarter surpassed its own and Wall Street estimates.\n",
    "    - AA passengers can chew on this offer Got the munchies at 30,000 feet but don #39;t care for the typical  quot;complimentary quot; airline food? You don #39;t need to bail out on the eats much longer - more and more airlines are grounding such chow.\n",
    "- Science/Tech:\n",
    "    - New bird species discovered in Philippines Cambridge, England, Aug. 17 (UPI) -- British and Filipino researchers have found a new bird species on a remote island in the northern Philippines, which is a relative to the familiar Moorhen.\n",
    "    - New Shuttle Fuel Tanks Should Not Shed Foam By MARCIA DUNN    CAPE CANAVERAL, Fla. (AP) -- NASA's redesigned space shuttle fuel tanks should no longer shed dangerous pieces of foam when launches resume next spring, officials said Thursday...\n"
   ]
  },
  {
   "cell_type": "markdown",
   "metadata": {},
   "source": [
    "Dataset: XSUM"
   ]
  },
  {
   "cell_type": "code",
   "execution_count": 43,
   "metadata": {},
   "outputs": [
    {
     "data": {
      "application/vnd.jupyter.widget-view+json": {
       "model_id": "5173a061fd4e4696822c96a1702f521a",
       "version_major": 2,
       "version_minor": 0
      },
      "text/plain": [
       "HBox(children=(FloatProgress(value=0.0, description='Downloading', max=1455.0, style=ProgressStyle(description…"
      ]
     },
     "metadata": {},
     "output_type": "display_data"
    },
    {
     "name": "stdout",
     "output_type": "stream",
     "text": [
      "\n"
     ]
    },
    {
     "data": {
      "application/vnd.jupyter.widget-view+json": {
       "model_id": "d9d2ab4199c944bfb9b05bedb7edf3c1",
       "version_major": 2,
       "version_minor": 0
      },
      "text/plain": [
       "HBox(children=(FloatProgress(value=0.0, description='Downloading', max=903.0, style=ProgressStyle(description_…"
      ]
     },
     "metadata": {},
     "output_type": "display_data"
    },
    {
     "name": "stderr",
     "output_type": "stream",
     "text": [
      "Using custom data configuration default\n"
     ]
    },
    {
     "name": "stdout",
     "output_type": "stream",
     "text": [
      "\n",
      "Downloading and preparing dataset xsum/default (download: 195.35 MiB, generated: 502.18 MiB, post-processed: Unknown size, total: 697.54 MiB) to /Users/neilkaushikkar/.cache/huggingface/datasets/xsum/default/1.1.0/128741c17b7a4c939dbf844a75a5e83deadd07deaf4b2eda2056ed8eebdb03ae...\n"
     ]
    },
    {
     "data": {
      "application/vnd.jupyter.widget-view+json": {
       "model_id": "4e830641bfdc43b1a7645ab84f1f1432",
       "version_major": 2,
       "version_minor": 0
      },
      "text/plain": [
       "HBox(children=(FloatProgress(value=0.0, description='Downloading', max=204844092.0, style=ProgressStyle(descri…"
      ]
     },
     "metadata": {},
     "output_type": "display_data"
    },
    {
     "name": "stdout",
     "output_type": "stream",
     "text": [
      "\n"
     ]
    },
    {
     "data": {
      "application/vnd.jupyter.widget-view+json": {
       "model_id": "",
       "version_major": 2,
       "version_minor": 0
      },
      "text/plain": [
       "HBox(children=(FloatProgress(value=1.0, bar_style='info', max=1.0), HTML(value='')))"
      ]
     },
     "metadata": {},
     "output_type": "display_data"
    },
    {
     "data": {
      "application/vnd.jupyter.widget-view+json": {
       "model_id": "",
       "version_major": 2,
       "version_minor": 0
      },
      "text/plain": [
       "HBox(children=(FloatProgress(value=1.0, bar_style='info', max=1.0), HTML(value='')))"
      ]
     },
     "metadata": {},
     "output_type": "display_data"
    },
    {
     "data": {
      "application/vnd.jupyter.widget-view+json": {
       "model_id": "",
       "version_major": 2,
       "version_minor": 0
      },
      "text/plain": [
       "HBox(children=(FloatProgress(value=1.0, bar_style='info', max=1.0), HTML(value='')))"
      ]
     },
     "metadata": {},
     "output_type": "display_data"
    },
    {
     "name": "stdout",
     "output_type": "stream",
     "text": [
      "Dataset xsum downloaded and prepared to /Users/neilkaushikkar/.cache/huggingface/datasets/xsum/default/1.1.0/128741c17b7a4c939dbf844a75a5e83deadd07deaf4b2eda2056ed8eebdb03ae. Subsequent calls will reuse this data.\n"
     ]
    }
   ],
   "source": [
    "xsum = load_dataset('xsum')"
   ]
  },
  {
   "cell_type": "code",
   "execution_count": 57,
   "metadata": {},
   "outputs": [
    {
     "name": "stdout",
     "output_type": "stream",
     "text": [
      "The National Oceanic and Atmospheric Administration (NOAA) forecasts 14 to 23 named storms. Eight to 14 of these could develop into hurricanes, it says.The season could be one of the most active on record, with between three to seven major hurricanes, the NOAA said.\"In short, we urge everyone to be prepared,\" added a spokesperson for the agency said.Major hurricanes can reach category three or higher, which means they bring sustained winds of at least 111mph (178km/h).The NOAA says the seasonal forecasts have a 70% probability.The hurricane season begins on 1 June and runs until the end of November.\n",
      "\n",
      "As many as 14 hurricanes could hit the Atlantic basin this year, the top US climate agency says.\n",
      "\n",
      "31\n",
      "It was a rare example of the Cold War turning hot - pitting the US and its allies against the USSR, North Korea and communist China. It was marked by dramatic swings of fortune and a devastating death toll.Estimates vary, but at least two million Korean civilians, up to 1.5m communist forces, and around 30,000 US, 400,000 South Korean and 1,000 UK troops are believed to have died.For two of the three years that the war was under way, both sides were actually trying to negotiate a peace.When a ceasefire was eventually signed, on 27 July 1953, no-one could have guessed that 50 years later, the two Koreas would remain technically at war.A peace treaty has never been signed, and the border continues to bristle with mines, artillery and hundreds of troops.\n",
      "\n",
      "In 1950, as the international community was coming to terms with the aftermath of World War II, a new conflict broke out at the edge of the Asian continent.\n",
      "\n",
      "48\n"
     ]
    }
   ],
   "source": [
    "index = 15\n",
    "count = 0\n",
    "# Print a couple short documents and their summaries\n",
    "while True:\n",
    "    art = xsum['train'][index]\n",
    "    if len(art['document']) < 1000:\n",
    "        print(art['document'])\n",
    "        print(art['summary'])\n",
    "        count += 1\n",
    "        if count == 2:\n",
    "            break\n",
    "    index += 1"
   ]
  },
  {
   "cell_type": "markdown",
   "metadata": {},
   "source": [
    "Big Takeaway: VERY USEFUL\n",
    "\n",
    "Overview:\n",
    "- Dataset containing document and summary pairs of an article and a 1 sentence summary\n",
    "    - Listed under ‘document’ and ‘summary’ for each entry\n",
    "- The article entries can get LONG\n",
    "- Very useful for one sentence summarization \n",
    "- Summary sentences describe what the article is about, rather than exactly what happened\n",
    "- Could be useful?\n",
    "- 204017 train entries / 11333 test entries\n",
    "    - We can easily change the train/test split to 70/30 with the ‘split’ parameter when loading the dataset\n",
    "\n",
    "- Samples: (I only used short documents so they could fit here)\n",
    "    - Example 1:\n",
    "        - ‘document’: ‘The problem is affecting people using the older versions of the PlayStation 3, called the \"Fat\" model.The problem isn\\'t affecting the newer PS3 Slim systems that have been on sale since September last year.Sony have also said they are aiming to have the problem fixed shortly but is advising some users to avoid using their console for the time being.\"We hope to resolve this problem within the next 24 hours,\" a statement reads. \"In the meantime, if you have a model other than the new slim PS3, we advise that you do not use your PS3 system, as doing so may result in errors in some functionality, such as recording obtained trophies, and not being able to restore certain data.\"We believe we have identified that this problem is being caused by a bug in the clock functionality incorporated in the system.\"The PlayStation Network is used by millions of people around the world.It allows users to play their friends at games like Fifa over the internet and also do things like download software or visit online stores.\\n’\n",
    "        - ‘summary’: ‘Sony has told owners of older models of its PlayStation 3 console to stop using the machine because of a problem with the PlayStation Network.\\n’\n",
    "    - Example 2\n",
    "        - ‘document’: ‘The National Oceanic and Atmospheric Administration (NOAA) forecasts 14 to 23 named storms. Eight to 14 of these could develop into hurricanes, it says.The season could be one of the most active on record, with between three to seven major hurricanes, the NOAA said.\"In short, we urge everyone to be prepared,\" added a spokesperson for the agency said.Major hurricanes can reach category three or higher, which means they bring sustained winds of at least 111mph (178km/h).The NOAA says the seasonal forecasts have a 70% probability.The hurricane season begins on 1 June and runs until the end of November.\\n’\n",
    "        - ‘summary’: ‘As many as 14 hurricanes could hit the Atlantic basin this year, the top US climate agency says.\\n’\n"
   ]
  }
 ],
 "metadata": {
  "kernelspec": {
   "display_name": "Python 3",
   "language": "python",
   "name": "python3"
  },
  "language_info": {
   "codemirror_mode": {
    "name": "ipython",
    "version": 3
   },
   "file_extension": ".py",
   "mimetype": "text/x-python",
   "name": "python",
   "nbconvert_exporter": "python",
   "pygments_lexer": "ipython3",
   "version": "3.8.3"
  }
 },
 "nbformat": 4,
 "nbformat_minor": 4
}
